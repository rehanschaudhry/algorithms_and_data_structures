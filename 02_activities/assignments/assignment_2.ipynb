{
 "cells": [
  {
   "cell_type": "markdown",
   "metadata": {},
   "source": [
    "# Practice Interview\n",
    "\n",
    "## Objective\n",
    "\n",
    "_*The partner assignment aims to provide participants with the opportunity to practice coding in an interview context. You will analyze your partner's Assignment 1. Moreover, code reviews are common practice in a software development team. This assignment should give you a taste of the code review process.*_\n",
    "\n",
    "## Group Size\n",
    "\n",
    "Each group should have 2 people. You will be assigned a partner\n",
    "\n",
    "## Part 1:\n",
    "\n",
    "You and your partner must share each other's Assignment 1 submission."
   ]
  },
  {
   "cell_type": "markdown",
   "metadata": {},
   "source": [
    "\n",
    "## Part 2:\n",
    "\n",
    "Create a Jupyter Notebook, create 6 of the following headings, and complete the following for your partner's assignment 1:\n",
    "\n",
    "-   Paraphrase the problem in your own words.\n"
   ]
  },
  {
   "cell_type": "code",
   "execution_count": null,
   "metadata": {},
   "outputs": [],
   "source": [
    "# Your answer here\n",
    "#The code aims to find the first duplicate value in a binary tree using a breadth-first search (BFS) approach. \n",
    "# It traverses the tree level by level, checking each node's value against a set of previously seen values, \n",
    "# and returns the first duplicated value found. If no duplicates are found, it returns `-1`."
   ]
  },
  {
   "cell_type": "markdown",
   "metadata": {},
   "source": [
    "\n",
    "-   Create 1 new example that demonstrates you understand the problem. Trace/walkthrough 1 example that your partner made and explain it.\n"
   ]
  },
  {
   "cell_type": "code",
   "execution_count": 3,
   "metadata": {},
   "outputs": [],
   "source": [
    "# Your answer here\n",
    "#      3\n",
    "#    /   \\\n",
    "#   5     2\n",
    "#  / \\   / \\\n",
    "# 1   2  6  2\n",
    "\n",
    "#Initialize the queue with the root node: [3].\n",
    "#Initialize an empty set seen.\n",
    "#Dequeue 3, check if 3 is in seen (it's not), add 3 to seen: seen = {3}. Enqueue its children: [5, 2].\n",
    "#Dequeue 5, check if 5 is in seen (it's not), add 5 to seen: seen = {3, 5}. Enqueue its children: [2, 1, 2].\n",
    "#Dequeue 2, check if 2 is in seen (it's not), add 2 to seen: seen = {2, 3, 5}. Enqueue its children: [1, 2, 6, 2].\n",
    "#Dequeue 1, check if 1 is in seen (it's not), add 1 to seen: seen = {1, 2, 3, 5}. Enqueue its children (none): [2, 6, 2].\n",
    "#Dequeue 2, check if 2 is in seen (it is), return 2.\n",
    "#The function finds the first duplicate value 2 and returns it.\n"
   ]
  },
  {
   "cell_type": "markdown",
   "metadata": {},
   "source": [
    "\n",
    "-   Copy the solution your partner wrote. \n"
   ]
  },
  {
   "cell_type": "code",
   "execution_count": 4,
   "metadata": {},
   "outputs": [
    {
     "name": "stdout",
     "output_type": "stream",
     "text": [
      "2\n",
      "-1\n"
     ]
    }
   ],
   "source": [
    "# Your answer here\n",
    "from collections import deque\n",
    "\n",
    "class TreeNode:\n",
    "    def __init__(self, val=0, left=None, right=None):\n",
    "        self.val = val\n",
    "        self.left = left\n",
    "        self.right = right\n",
    "\n",
    "def is_duplicate(root: TreeNode) -> int:\n",
    "    if not root:\n",
    "        return -1\n",
    "    \n",
    "    queue = deque([root])\n",
    "    seen = set()\n",
    "    \n",
    "    while queue:\n",
    "        node = queue.popleft()\n",
    "        \n",
    "        if node.val in seen:\n",
    "            return node.val\n",
    "        seen.add(node.val)\n",
    "        \n",
    "        if node.left:\n",
    "            queue.append(node.left)\n",
    "        \n",
    "        if node.right:\n",
    "            queue.append(node.right)\n",
    "    \n",
    "    return -1  \n",
    "\n",
    "#      3\n",
    "#    /   \\\n",
    "#   5     2\n",
    "#  / \\   / \\\n",
    "# 1   2  6  2\n",
    "root1 = TreeNode(3)\n",
    "root1.left = TreeNode(5)\n",
    "root1.right = TreeNode(2)\n",
    "root1.left.left = TreeNode(1)\n",
    "root1.left.right = TreeNode(2)\n",
    "root1.right.left = TreeNode(6)\n",
    "root1.right.right = TreeNode(2)\n",
    "print(is_duplicate(root1))\n",
    "\n",
    "#      5\n",
    "#    /   \\\n",
    "#   3     8\n",
    "#  / \\   / \\\n",
    "# 1   4 7   9\n",
    "root2 = TreeNode(5)\n",
    "root2.left = TreeNode(3)\n",
    "root2.right = TreeNode(8)\n",
    "root2.left.left = TreeNode(1)\n",
    "root2.left.right = TreeNode(4)\n",
    "root2.right.left = TreeNode(7)\n",
    "root2.right.right = TreeNode(9)\n",
    "print(is_duplicate(root2))"
   ]
  },
  {
   "cell_type": "markdown",
   "metadata": {},
   "source": [
    "\n",
    "-   Explain why their solution works in your own words.\n"
   ]
  },
  {
   "cell_type": "code",
   "execution_count": 5,
   "metadata": {},
   "outputs": [],
   "source": [
    "# Your answer here\n",
    "# The solution works because it uses a breadth-first search (BFS) approach to traverse the binary tree level by level. \n",
    "# By maintaining a queue, it ensures that nodes at the same depth are processed before moving on to deeper levels. \n",
    "# Simultaneously, it keeps track of all the values it encounters using a set. \n",
    "# When it finds a node whose value is already in the set, it immediately identifies this as the first duplicate \n",
    "# and returns it. This method guarantees that the first duplicate found is the one closest to the root, \n",
    "# fulfilling the problem's requirements effectively. If no duplicates are found, it returns `-1`."
   ]
  },
  {
   "cell_type": "markdown",
   "metadata": {},
   "source": [
    "\n",
    "-   Explain the problem’s time and space complexity in your own words.\n"
   ]
  },
  {
   "cell_type": "code",
   "execution_count": 6,
   "metadata": {},
   "outputs": [],
   "source": [
    "# Your answer here\n",
    "\n",
    "### Time Complexity\n",
    "#The time complexity of the solution is O(n) because it processes each of the n nodes in the binary tree exactly once. \n",
    "# Each operation of checking for duplicates, adding to the queue, and adding to the set takes constant time, O(1), \n",
    "# on average. Thus, the overall time taken is linear with respect to the number of nodes.\n",
    "\n",
    "### Space Complexity\n",
    "\n",
    "#The space complexity is O(n) due to the need to store up to n nodes in the queue and n unique values in the set. \n",
    "# In the worst case, the queue may hold all nodes if they are on the same level, \n",
    "# and the set stores all unique values encountered. Therefore, both the queue and the set can require space proportional \n",
    "# to the number of nodes in the tree."
   ]
  },
  {
   "cell_type": "markdown",
   "metadata": {},
   "source": [
    "\n",
    "-   Critique your partner's solution, including explanation, and if there is anything that should be adjusted.\n"
   ]
  },
  {
   "cell_type": "code",
   "execution_count": 7,
   "metadata": {},
   "outputs": [],
   "source": [
    "# Your answer \n",
    "#My partner's solution effectively finds the first duplicate value in a binary tree using a breadth-first search (BFS) \n",
    "# approach. It initializes a queue with the root node and a set to keep track of seen values. By traversing the tree level \n",
    "# by level, the solution ensures that the first duplicate encountered is the one closest to the root, adhering to the \n",
    "# problem's requirements. If a node's value is found in the set, it returns that value immediately; otherwise, it adds the \n",
    "# value to the set and continues. This guarantees an O(n) time complexity since each node is processed exactly once. \n",
    "# The space complexity is also O(n), as the queue and set can grow up to the number of nodes in the tree, ensuring the \n",
    "# solution is both efficient and scalable."
   ]
  },
  {
   "cell_type": "markdown",
   "metadata": {},
   "source": [
    "\n",
    "## Part 3:\n",
    "\n",
    "Please write a 200 word reflection documenting your process from assignment 1, and your presentation and review experience with your partner at the bottom of the Jupyter Notebook under a new heading \"Reflection.\" Again, export this Notebook as pdf.\n"
   ]
  },
  {
   "cell_type": "markdown",
   "metadata": {},
   "source": [
    "### Reflection"
   ]
  },
  {
   "cell_type": "code",
   "execution_count": 8,
   "metadata": {},
   "outputs": [],
   "source": [
    "# Your answer here\n",
    "\n",
    "# In this assignment, I developed a function to identify missing numbers in a list within a specified range. \n",
    "# The process began by handling edge cases, such as an empty input list, followed by calculating the complete range of \n",
    "# numbers based on the maximum value present. By converting the input list to a set, I efficiently identified missing \n",
    "# numbers by computing the set difference. This approach ensures both time and space efficiency, which are crucial for \n",
    "# handling larger datasets.\n",
    "\n",
    "# Throughout this task, I learned the importance of clear problem definition and edge case management. \n",
    "# I also improved my ability to use Python's set operations to solve problems efficiently.\n",
    "\n",
    "# Presenting my solution to my partner allowed me to articulate my thought process and receive constructive feedback. \n",
    "# My partner appreciated the clarity and efficiency of my approach but suggested emphasizing edge case handling in my \n",
    "# explanation. Their solution, which involved finding the first duplicate value in a binary tree, was well-executed and \n",
    "# provided valuable insights into different problem-solving techniques.\n",
    "\n",
    "# This review experience highlighted the importance of collaboration and the exchange of ideas in refining and enhancing our \n",
    "# solutions. Overall, this assignment and the review process have deepened my understanding of Python programming and \n",
    "# problem-solving strategies.\n"
   ]
  },
  {
   "cell_type": "markdown",
   "metadata": {},
   "source": [
    "\n",
    "## Evaluation Criteria\n",
    "\n",
    "We are looking for the similar points as Assignment 1\n",
    "\n",
    "-   Problem is accurately stated\n",
    "\n",
    "-   New example is correct and easily understandable\n",
    "\n",
    "-   Correctness, time, and space complexity of the coding solution\n",
    "\n",
    "-   Clarity in explaining why the solution works, its time and space complexity\n",
    "\n",
    "-   Quality of critique of your partner's assignment, if necessary\n"
   ]
  },
  {
   "cell_type": "markdown",
   "metadata": {},
   "source": [
    "## Submission Information\n",
    "\n",
    "🚨 **Please review our [Assignment Submission Guide](https://github.com/UofT-DSI/onboarding/blob/main/onboarding_documents/submissions.md)** 🚨 for detailed instructions on how to format, branch, and submit your work. Following these guidelines is crucial for your submissions to be evaluated correctly.\n",
    "\n",
    "### Submission Parameters:\n",
    "* Submission Due Date: `HH:MM AM/PM - DD/MM/YYYY`\n",
    "* The branch name for your repo should be: `assignment-2`\n",
    "* What to submit for this assignment:\n",
    "    * This Jupyter Notebook (assignment_2.ipynb) should be populated and should be the only change in your pull request.\n",
    "* What the pull request link should look like for this assignment: `https://github.com/<your_github_username>/algorithms_and_data_structures/pull/<pr_id>`\n",
    "    * Open a private window in your browser. Copy and paste the link to your pull request into the address bar. Make sure you can see your pull request properly. This helps the technical facilitator and learning support staff review your submission easily.\n",
    "\n",
    "Checklist:\n",
    "- [ ] Created a branch with the correct naming convention.\n",
    "- [ ] Ensured that the repository is public.\n",
    "- [ ] Reviewed the PR description guidelines and adhered to them.\n",
    "- [ ] Verify that the link is accessible in a private browser window.\n",
    "\n",
    "If you encounter any difficulties or have questions, please don't hesitate to reach out to our team via our Slack at `#cohort-3-help`. Our Technical Facilitators and Learning Support staff are here to help you navigate any challenges.\n"
   ]
  }
 ],
 "metadata": {
  "kernelspec": {
   "display_name": "dsi_participant",
   "language": "python",
   "name": "python3"
  },
  "language_info": {
   "codemirror_mode": {
    "name": "ipython",
    "version": 3
   },
   "file_extension": ".py",
   "mimetype": "text/x-python",
   "name": "python",
   "nbconvert_exporter": "python",
   "pygments_lexer": "ipython3",
   "version": "3.9.18"
  }
 },
 "nbformat": 4,
 "nbformat_minor": 2
}
